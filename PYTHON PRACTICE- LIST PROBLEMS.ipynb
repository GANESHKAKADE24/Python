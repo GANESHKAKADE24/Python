{
 "cells": [
  {
   "cell_type": "markdown",
   "id": "57dd8cae",
   "metadata": {},
   "source": [
    "# Python | Remove empty tuples from a list"
   ]
  },
  {
   "cell_type": "code",
   "execution_count": 1,
   "id": "df5228ed",
   "metadata": {},
   "outputs": [],
   "source": [
    "# Input : tuples = [(), (‘ram’,’15’,’8′), (), (‘laxman’, ‘sita’), (‘krishna’, ‘akbar’, ’45’), (”,”),()]\n",
    "# Output : [(‘ram’, ’15’, ‘8’), (‘laxman’, ‘sita’), (‘krishna’, ‘akbar’, ’45’), (”, ”)]"
   ]
  },
  {
   "cell_type": "code",
   "execution_count": 2,
   "id": "1fd717f8",
   "metadata": {},
   "outputs": [
    {
     "name": "stdout",
     "output_type": "stream",
     "text": [
      "[('ram', '15', '8'), ('ram', '1144', '8')]\n",
      "[('ram', '15', '8'), ('ram', '1144', '8')]\n",
      "[('ram', '15', '8'), ('ram', '1144', '8')]\n",
      "[('ram', '15', '8'), ('ram', '1144', '8')]\n"
     ]
    }
   ],
   "source": [
    "# using list comprehension\n",
    "\n",
    "A=[(\"ram\",'15','8'), (),(\"ram\",'1144','8'),()]\n",
    "\n",
    "res=[x for x in A if x!=()]\n",
    "print(res)\n",
    "\n",
    "\n",
    "# using lamda function\n",
    "func1= lambda A:[x for x in A if x!=()]\n",
    "res1= func1(A)\n",
    "print(res1)\n",
    "\n",
    "\n",
    "#using append function\n",
    "res4=[]\n",
    "for _ in A:\n",
    "    if _ != ():\n",
    "        res4.append(_)\n",
    "print(res4)\n",
    "\n",
    "# using remove function\n",
    "for _ in A:\n",
    "    if _ == ():\n",
    "        A.remove(_)\n",
    "print(A)\n",
    "\n",
    "# using while loop\n",
    "A=[(\"ram\",'15','8'), (),(\"ram\",'1144','8'),()]\n",
    "while () in A:\n",
    "    A.remove(())\n",
    "    \n",
    "print(A)\n",
    "\n",
    "\n",
    "\n",
    "\n",
    "\n",
    "    \n",
    "\n",
    "\n",
    "\n",
    "\n",
    "    \n"
   ]
  },
  {
   "cell_type": "code",
   "execution_count": null,
   "id": "dc131da7",
   "metadata": {},
   "outputs": [],
   "source": []
  }
 ],
 "metadata": {
  "kernelspec": {
   "display_name": "Python 3 (ipykernel)",
   "language": "python",
   "name": "python3"
  },
  "language_info": {
   "codemirror_mode": {
    "name": "ipython",
    "version": 3
   },
   "file_extension": ".py",
   "mimetype": "text/x-python",
   "name": "python",
   "nbconvert_exporter": "python",
   "pygments_lexer": "ipython3",
   "version": "3.9.12"
  }
 },
 "nbformat": 4,
 "nbformat_minor": 5
}
