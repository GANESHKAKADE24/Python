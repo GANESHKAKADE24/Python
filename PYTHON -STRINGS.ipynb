{
 "cells": [
  {
   "cell_type": "code",
   "execution_count": 15,
   "id": "1b88e05d",
   "metadata": {},
   "outputs": [
    {
     "name": "stdout",
     "output_type": "stream",
     "text": [
      "enetr ith character number33\n",
      "out of bound\n"
     ]
    }
   ],
   "source": [
    "# Ways to remove i’th character from string in Python\n",
    "test = \"Ganeshkakade\"\n",
    "new=\"\"\n",
    "i=int(input(\"enetr ith character number\"))\n",
    "# for j in range(len(test)):\n",
    "#     if j != i-1:\n",
    "#         new = new + test[j]\n",
    "# print(new)\n",
    "\n",
    "if i<= len(test):\n",
    "    \n",
    "    new=test.replace(test[i-1],\"\")\n",
    "    print(new)\n",
    "else:\n",
    "    print('out of bound')\n",
    "    \n",
    "\n",
    "\n",
    "\n"
   ]
  },
  {
   "cell_type": "code",
   "execution_count": 35,
   "id": "6d98d48a",
   "metadata": {},
   "outputs": [
    {
     "name": "stdout",
     "output_type": "stream",
     "text": [
      "String before: welcome to my home\n",
      "String after: WelcomE TO MY HomE\n"
     ]
    }
   ],
   "source": [
    "# Python program to capitalize the first and last character of each word in a string\n",
    "s= 'welcome to my home'\n",
    "\n",
    "print(\"String before:\", s)\n",
    "a = s.split()\n",
    "res = []\n",
    "for i in a:\n",
    "    x = i[0].upper()+i[1:-1]+i[-1].upper()\n",
    "    #print(x)\n",
    "    res.append(x)\n",
    "    #print(res)\n",
    "res = \" \".join(res)\n",
    "print(\"String after:\", res)    \n",
    "\n",
    "\n",
    "    "
   ]
  },
  {
   "cell_type": "code",
   "execution_count": 36,
   "id": "945c6a03",
   "metadata": {},
   "outputs": [],
   "source": [
    "# Python – Specific Characters Frequency in String List\n",
    "\n",
    "s='geeksforgeeks' \n",
    "se=set(s)"
   ]
  },
  {
   "cell_type": "code",
   "execution_count": 54,
   "id": "209901b9",
   "metadata": {},
   "outputs": [
    {
     "name": "stdout",
     "output_type": "stream",
     "text": [
      "geksforaxd\n"
     ]
    }
   ],
   "source": [
    "#Remove all duplicates from a given string in Python\n",
    "\n",
    "s='geeksforgeeks asxd'\n",
    "st=list(s)\n",
    "x=[]\n",
    "for i in s:\n",
    "    if i  not in x and i != \" \":\n",
    "        x.append(i)\n",
    "    else:\n",
    "         pass\n",
    "        \n",
    "print(\"\".join(x))\n",
    "    \n",
    "    "
   ]
  },
  {
   "cell_type": "code",
   "execution_count": null,
   "id": "f2a71aa2",
   "metadata": {},
   "outputs": [],
   "source": [
    "# Python  Frequency of numbers in String\n",
    "\n"
   ]
  },
  {
   "cell_type": "code",
   "execution_count": 4,
   "id": "e7cfa3a1",
   "metadata": {},
   "outputs": [],
   "source": [
    "# Python program to split and join a string"
   ]
  },
  {
   "cell_type": "code",
   "execution_count": null,
   "id": "9a6b77a6",
   "metadata": {},
   "outputs": [],
   "source": [
    "# Python – Uppercase Half String"
   ]
  }
 ],
 "metadata": {
  "kernelspec": {
   "display_name": "Python 3 (ipykernel)",
   "language": "python",
   "name": "python3"
  },
  "language_info": {
   "codemirror_mode": {
    "name": "ipython",
    "version": 3
   },
   "file_extension": ".py",
   "mimetype": "text/x-python",
   "name": "python",
   "nbconvert_exporter": "python",
   "pygments_lexer": "ipython3",
   "version": "3.9.12"
  }
 },
 "nbformat": 4,
 "nbformat_minor": 5
}
